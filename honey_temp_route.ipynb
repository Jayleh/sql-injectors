{
 "cells": [
  {
   "cell_type": "code",
   "execution_count": 153,
   "metadata": {
    "collapsed": true
   },
   "outputs": [],
   "source": [
    "# Dependencies\n",
    "import pandas as pd\n",
    "import numpy as np"
   ]
  },
  {
   "cell_type": "code",
   "execution_count": 154,
   "metadata": {
    "collapsed": true
   },
   "outputs": [],
   "source": [
    "# Csv path\n",
    "temp_path = \"data/raw_data/GlobalLandTemperaturesByState.csv\"\n",
    "\n",
    "# Read csv as df\n",
    "temp_df = pd.read_csv(temp_path, encoding='utf-8')"
   ]
  },
  {
   "cell_type": "code",
   "execution_count": 155,
   "metadata": {
    "collapsed": true
   },
   "outputs": [],
   "source": [
    "# Filter United States\n",
    "temp_df = temp_df[(temp_df[\"Country\"] == \"United States\")]\n",
    "\n",
    "# Filter from 1998 to 2012\n",
    "temp_df = temp_df[(temp_df[\"dt\"] >= \"1998-01-01\") & (temp_df[\"dt\"] <= \"2012-12-31\")]"
   ]
  },
  {
   "cell_type": "code",
   "execution_count": 156,
   "metadata": {},
   "outputs": [
    {
     "data": {
      "text/html": [
       "<div>\n",
       "<style>\n",
       "    .dataframe thead tr:only-child th {\n",
       "        text-align: right;\n",
       "    }\n",
       "\n",
       "    .dataframe thead th {\n",
       "        text-align: left;\n",
       "    }\n",
       "\n",
       "    .dataframe tbody tr th {\n",
       "        vertical-align: top;\n",
       "    }\n",
       "</style>\n",
       "<table border=\"1\" class=\"dataframe\">\n",
       "  <thead>\n",
       "    <tr style=\"text-align: right;\">\n",
       "      <th></th>\n",
       "      <th>dt</th>\n",
       "      <th>AverageTemperature</th>\n",
       "      <th>AverageTemperatureUncertainty</th>\n",
       "      <th>State</th>\n",
       "      <th>Country</th>\n",
       "    </tr>\n",
       "  </thead>\n",
       "  <tbody>\n",
       "    <tr>\n",
       "      <th>10508</th>\n",
       "      <td>1998-01-01</td>\n",
       "      <td>9.114</td>\n",
       "      <td>0.188</td>\n",
       "      <td>Alabama</td>\n",
       "      <td>United States</td>\n",
       "    </tr>\n",
       "    <tr>\n",
       "      <th>10509</th>\n",
       "      <td>1998-02-01</td>\n",
       "      <td>9.828</td>\n",
       "      <td>0.147</td>\n",
       "      <td>Alabama</td>\n",
       "      <td>United States</td>\n",
       "    </tr>\n",
       "    <tr>\n",
       "      <th>10510</th>\n",
       "      <td>1998-03-01</td>\n",
       "      <td>12.261</td>\n",
       "      <td>0.187</td>\n",
       "      <td>Alabama</td>\n",
       "      <td>United States</td>\n",
       "    </tr>\n",
       "    <tr>\n",
       "      <th>10511</th>\n",
       "      <td>1998-04-01</td>\n",
       "      <td>16.744</td>\n",
       "      <td>0.165</td>\n",
       "      <td>Alabama</td>\n",
       "      <td>United States</td>\n",
       "    </tr>\n",
       "    <tr>\n",
       "      <th>10512</th>\n",
       "      <td>1998-05-01</td>\n",
       "      <td>23.599</td>\n",
       "      <td>0.121</td>\n",
       "      <td>Alabama</td>\n",
       "      <td>United States</td>\n",
       "    </tr>\n",
       "  </tbody>\n",
       "</table>\n",
       "</div>"
      ],
      "text/plain": [
       "               dt  AverageTemperature  AverageTemperatureUncertainty    State  \\\n",
       "10508  1998-01-01               9.114                          0.188  Alabama   \n",
       "10509  1998-02-01               9.828                          0.147  Alabama   \n",
       "10510  1998-03-01              12.261                          0.187  Alabama   \n",
       "10511  1998-04-01              16.744                          0.165  Alabama   \n",
       "10512  1998-05-01              23.599                          0.121  Alabama   \n",
       "\n",
       "             Country  \n",
       "10508  United States  \n",
       "10509  United States  \n",
       "10510  United States  \n",
       "10511  United States  \n",
       "10512  United States  "
      ]
     },
     "execution_count": 156,
     "metadata": {},
     "output_type": "execute_result"
    }
   ],
   "source": [
    "temp_df.head()"
   ]
  },
  {
   "cell_type": "code",
   "execution_count": 157,
   "metadata": {},
   "outputs": [
    {
     "data": {
      "text/plain": [
       "dt                               9180\n",
       "AverageTemperature               9180\n",
       "AverageTemperatureUncertainty    9180\n",
       "State                            9180\n",
       "Country                          9180\n",
       "dtype: int64"
      ]
     },
     "execution_count": 157,
     "metadata": {},
     "output_type": "execute_result"
    }
   ],
   "source": [
    "temp_df.count()"
   ]
  },
  {
   "cell_type": "code",
   "execution_count": 158,
   "metadata": {},
   "outputs": [
    {
     "data": {
      "text/plain": [
       "51"
      ]
     },
     "execution_count": 158,
     "metadata": {},
     "output_type": "execute_result"
    }
   ],
   "source": [
    "temp_df[\"State\"].nunique()"
   ]
  },
  {
   "cell_type": "code",
   "execution_count": 159,
   "metadata": {},
   "outputs": [
    {
     "name": "stdout",
     "output_type": "stream",
     "text": [
      "44\n"
     ]
    }
   ],
   "source": [
    "states_to_drop = [\"Alaska\", \"Connecticut\", \"Delaware\", \"District Of Columbia\", \"Massachusetts\", \"New Hampshire\", \"Rhode Island\"]\n",
    "\n",
    "temp_df = temp_df[~temp_df[\"State\"].isin(states_to_drop)]\n",
    "\n",
    "print(temp_df[\"State\"].nunique())"
   ]
  },
  {
   "cell_type": "code",
   "execution_count": 160,
   "metadata": {},
   "outputs": [
    {
     "data": {
      "text/plain": [
       "dt                               7920\n",
       "AverageTemperature               7920\n",
       "AverageTemperatureUncertainty    7920\n",
       "State                            7920\n",
       "Country                          7920\n",
       "dtype: int64"
      ]
     },
     "execution_count": 160,
     "metadata": {},
     "output_type": "execute_result"
    }
   ],
   "source": [
    "temp_df.count()"
   ]
  },
  {
   "cell_type": "code",
   "execution_count": 161,
   "metadata": {},
   "outputs": [
    {
     "data": {
      "text/plain": [
       "dt                                object\n",
       "AverageTemperature               float64\n",
       "AverageTemperatureUncertainty    float64\n",
       "State                             object\n",
       "Country                           object\n",
       "dtype: object"
      ]
     },
     "execution_count": 161,
     "metadata": {},
     "output_type": "execute_result"
    }
   ],
   "source": [
    "temp_df.dtypes"
   ]
  },
  {
   "cell_type": "code",
   "execution_count": 162,
   "metadata": {},
   "outputs": [
    {
     "data": {
      "text/plain": [
       "array(['Alabama', 'Arizona', 'Arkansas', 'California', 'Colorado',\n",
       "       'Florida', 'Georgia (State)', 'Hawaii', 'Idaho', 'Illinois',\n",
       "       'Indiana', 'Iowa', 'Kansas', 'Kentucky', 'Louisiana', 'Maine',\n",
       "       'Maryland', 'Michigan', 'Minnesota', 'Mississippi', 'Missouri',\n",
       "       'Montana', 'Nebraska', 'Nevada', 'New Jersey', 'New Mexico',\n",
       "       'New York', 'North Carolina', 'North Dakota', 'Ohio', 'Oklahoma',\n",
       "       'Oregon', 'Pennsylvania', 'South Carolina', 'South Dakota',\n",
       "       'Tennessee', 'Texas', 'Utah', 'Vermont', 'Virginia', 'Washington',\n",
       "       'West Virginia', 'Wisconsin', 'Wyoming'], dtype=object)"
      ]
     },
     "execution_count": 162,
     "metadata": {},
     "output_type": "execute_result"
    }
   ],
   "source": [
    "temp_df.State.unique()"
   ]
  },
  {
   "cell_type": "code",
   "execution_count": 163,
   "metadata": {
    "collapsed": true
   },
   "outputs": [],
   "source": [
    "# Replace Georgia (State) to just Georgia\n",
    "for i, row in temp_df.iterrows():\n",
    "    if row[\"State\"] == \"Georgia (State)\":\n",
    "        \n",
    "        temp_df.at[i, \"State\"] = \"Georgia\""
   ]
  },
  {
   "cell_type": "code",
   "execution_count": 164,
   "metadata": {},
   "outputs": [
    {
     "data": {
      "text/plain": [
       "array(['Alabama', 'Arizona', 'Arkansas', 'California', 'Colorado',\n",
       "       'Florida', 'Georgia', 'Hawaii', 'Idaho', 'Illinois', 'Indiana',\n",
       "       'Iowa', 'Kansas', 'Kentucky', 'Louisiana', 'Maine', 'Maryland',\n",
       "       'Michigan', 'Minnesota', 'Mississippi', 'Missouri', 'Montana',\n",
       "       'Nebraska', 'Nevada', 'New Jersey', 'New Mexico', 'New York',\n",
       "       'North Carolina', 'North Dakota', 'Ohio', 'Oklahoma', 'Oregon',\n",
       "       'Pennsylvania', 'South Carolina', 'South Dakota', 'Tennessee',\n",
       "       'Texas', 'Utah', 'Vermont', 'Virginia', 'Washington',\n",
       "       'West Virginia', 'Wisconsin', 'Wyoming'], dtype=object)"
      ]
     },
     "execution_count": 164,
     "metadata": {},
     "output_type": "execute_result"
    }
   ],
   "source": [
    "temp_df.State.unique()"
   ]
  },
  {
   "cell_type": "code",
   "execution_count": 165,
   "metadata": {
    "collapsed": true
   },
   "outputs": [],
   "source": [
    "temp_df[\"dt\"] = pd.to_datetime(temp_df[\"dt\"], format=\"%Y-%m-%d\")"
   ]
  },
  {
   "cell_type": "code",
   "execution_count": 166,
   "metadata": {},
   "outputs": [
    {
     "data": {
      "text/plain": [
       "dt                               datetime64[ns]\n",
       "AverageTemperature                      float64\n",
       "AverageTemperatureUncertainty           float64\n",
       "State                                    object\n",
       "Country                                  object\n",
       "dtype: object"
      ]
     },
     "execution_count": 166,
     "metadata": {},
     "output_type": "execute_result"
    }
   ],
   "source": [
    "temp_df.dtypes"
   ]
  },
  {
   "cell_type": "code",
   "execution_count": 167,
   "metadata": {},
   "outputs": [
    {
     "data": {
      "text/plain": [
       "False"
      ]
     },
     "execution_count": 167,
     "metadata": {},
     "output_type": "execute_result"
    }
   ],
   "source": [
    "temp_df.isnull().values.any()"
   ]
  },
  {
   "cell_type": "code",
   "execution_count": 168,
   "metadata": {
    "collapsed": true
   },
   "outputs": [],
   "source": [
    "# Change datetime to just years\n",
    "temp_df[\"dt\"] = temp_df[\"dt\"].dt.year"
   ]
  },
  {
   "cell_type": "code",
   "execution_count": 169,
   "metadata": {
    "collapsed": true
   },
   "outputs": [],
   "source": [
    "temp_df = temp_df[[\"dt\", \"AverageTemperature\", \"State\"]]"
   ]
  },
  {
   "cell_type": "code",
   "execution_count": 170,
   "metadata": {
    "collapsed": true
   },
   "outputs": [],
   "source": [
    "group_df = temp_df.groupby([\"State\", \"dt\"])\n",
    "temp_clean = group_df.agg(['min', 'median', 'mean', 'max']).reset_index()"
   ]
  },
  {
   "cell_type": "code",
   "execution_count": 171,
   "metadata": {},
   "outputs": [
    {
     "data": {
      "text/plain": [
       "MultiIndex(levels=[['AverageTemperature', 'dt', 'State'], ['min', 'median', 'mean', 'max', '']],\n",
       "           labels=[[2, 1, 0, 0, 0, 0], [4, 4, 0, 1, 2, 3]])"
      ]
     },
     "execution_count": 171,
     "metadata": {},
     "output_type": "execute_result"
    }
   ],
   "source": [
    "temp_clean.columns"
   ]
  },
  {
   "cell_type": "code",
   "execution_count": 172,
   "metadata": {},
   "outputs": [
    {
     "data": {
      "text/html": [
       "<div>\n",
       "<style>\n",
       "    .dataframe thead tr:only-child th {\n",
       "        text-align: right;\n",
       "    }\n",
       "\n",
       "    .dataframe thead th {\n",
       "        text-align: left;\n",
       "    }\n",
       "\n",
       "    .dataframe tbody tr th {\n",
       "        vertical-align: top;\n",
       "    }\n",
       "</style>\n",
       "<table border=\"1\" class=\"dataframe\">\n",
       "  <thead>\n",
       "    <tr>\n",
       "      <th></th>\n",
       "      <th>State</th>\n",
       "      <th>dt</th>\n",
       "      <th colspan=\"4\" halign=\"left\">AverageTemperature</th>\n",
       "    </tr>\n",
       "    <tr>\n",
       "      <th></th>\n",
       "      <th></th>\n",
       "      <th></th>\n",
       "      <th>min</th>\n",
       "      <th>median</th>\n",
       "      <th>mean</th>\n",
       "      <th>max</th>\n",
       "    </tr>\n",
       "  </thead>\n",
       "  <tbody>\n",
       "    <tr>\n",
       "      <th>0</th>\n",
       "      <td>Alabama</td>\n",
       "      <td>1998</td>\n",
       "      <td>9.114</td>\n",
       "      <td>18.1855</td>\n",
       "      <td>18.786833</td>\n",
       "      <td>28.137</td>\n",
       "    </tr>\n",
       "    <tr>\n",
       "      <th>1</th>\n",
       "      <td>Alabama</td>\n",
       "      <td>1999</td>\n",
       "      <td>8.662</td>\n",
       "      <td>18.8300</td>\n",
       "      <td>18.271083</td>\n",
       "      <td>28.234</td>\n",
       "    </tr>\n",
       "    <tr>\n",
       "      <th>2</th>\n",
       "      <td>Alabama</td>\n",
       "      <td>2000</td>\n",
       "      <td>4.224</td>\n",
       "      <td>17.2430</td>\n",
       "      <td>17.911333</td>\n",
       "      <td>28.149</td>\n",
       "    </tr>\n",
       "    <tr>\n",
       "      <th>3</th>\n",
       "      <td>Alabama</td>\n",
       "      <td>2001</td>\n",
       "      <td>5.358</td>\n",
       "      <td>17.4300</td>\n",
       "      <td>17.677750</td>\n",
       "      <td>27.066</td>\n",
       "    </tr>\n",
       "    <tr>\n",
       "      <th>4</th>\n",
       "      <td>Alabama</td>\n",
       "      <td>2002</td>\n",
       "      <td>7.669</td>\n",
       "      <td>19.8750</td>\n",
       "      <td>18.022167</td>\n",
       "      <td>27.441</td>\n",
       "    </tr>\n",
       "  </tbody>\n",
       "</table>\n",
       "</div>"
      ],
      "text/plain": [
       "     State    dt AverageTemperature                            \n",
       "                                min   median       mean     max\n",
       "0  Alabama  1998              9.114  18.1855  18.786833  28.137\n",
       "1  Alabama  1999              8.662  18.8300  18.271083  28.234\n",
       "2  Alabama  2000              4.224  17.2430  17.911333  28.149\n",
       "3  Alabama  2001              5.358  17.4300  17.677750  27.066\n",
       "4  Alabama  2002              7.669  19.8750  18.022167  27.441"
      ]
     },
     "execution_count": 172,
     "metadata": {},
     "output_type": "execute_result"
    }
   ],
   "source": [
    "temp_clean.head()"
   ]
  },
  {
   "cell_type": "code",
   "execution_count": 173,
   "metadata": {
    "collapsed": true
   },
   "outputs": [],
   "source": [
    "# Drop level 0\n",
    "temp_clean.columns = temp_clean.columns.droplevel(0)"
   ]
  },
  {
   "cell_type": "code",
   "execution_count": 174,
   "metadata": {
    "collapsed": true
   },
   "outputs": [],
   "source": [
    "temp_clean.columns = [\"state_name\", \"year\", \"tmin\", \"tmedian\", \"tmean\", \"tmax\"]"
   ]
  },
  {
   "cell_type": "code",
   "execution_count": 175,
   "metadata": {
    "collapsed": true
   },
   "outputs": [],
   "source": [
    "states_hash = {\n",
    "    'Alabama': 'AL',\n",
    "    'Alaska': 'AK',\n",
    "    'American Samoa': 'AS',\n",
    "    'Arizona': 'AZ',\n",
    "    'Arkansas': 'AR',\n",
    "    'California': 'CA',\n",
    "    'Colorado': 'CO',\n",
    "    'Connecticut': 'CT',\n",
    "    'Delaware': 'DE',\n",
    "    'District Of Columbia': 'DC',\n",
    "    'Federated States Of Micronesia': 'FM',\n",
    "    'Florida': 'FL',\n",
    "    'Georgia': 'GA',\n",
    "    'Guam': 'GU',\n",
    "    'Hawaii': 'HI',\n",
    "    'Idaho': 'ID',\n",
    "    'Illinois': 'IL',\n",
    "    'Indiana': 'IN',\n",
    "    'Iowa': 'IA',\n",
    "    'Kansas': 'KS',\n",
    "    'Kentucky': 'KY',\n",
    "    'Louisiana': 'LA',\n",
    "    'Maine': 'ME',\n",
    "    'Marshall Islands': 'MH',\n",
    "    'Maryland': 'MD',\n",
    "    'Massachusetts': 'MA',\n",
    "    'Michigan': 'MI',\n",
    "    'Minnesota': 'MN',\n",
    "    'Mississippi': 'MS',\n",
    "    'Missouri': 'MO',\n",
    "    'Montana': 'MT',\n",
    "    'Nebraska': 'NE',\n",
    "    'Nevada': 'NV',\n",
    "    'New Hampshire': 'NH',\n",
    "    'New Jersey': 'NJ',\n",
    "    'New Mexico': 'NM',\n",
    "    'New York': 'NY',\n",
    "    'North Carolina': 'NC',\n",
    "    'North Dakota': 'ND',\n",
    "    'Northern Mariana Islands': 'MP',\n",
    "    'Ohio': 'OH',\n",
    "    'Oklahoma': 'OK',\n",
    "    'Oregon': 'OR',\n",
    "    'Palau': 'PW',\n",
    "    'Pennsylvania': 'PA',\n",
    "    'Puerto Rico': 'PR',\n",
    "    'Rhode Island': 'RI',\n",
    "    'South Carolina': 'SC',\n",
    "    'South Dakota': 'SD',\n",
    "    'Tennessee': 'TN',\n",
    "    'Texas': 'TX',\n",
    "    'Utah': 'UT',\n",
    "    'Vermont': 'VT',\n",
    "    'Virgin Islands': 'VI',\n",
    "    'Virginia': 'VA',\n",
    "    'Washington': 'WA',\n",
    "    'West Virginia': 'WV',\n",
    "    'Wisconsin': 'WI',\n",
    "    'Wyoming': 'WY'\n",
    "}"
   ]
  },
  {
   "cell_type": "code",
   "execution_count": 176,
   "metadata": {
    "collapsed": true
   },
   "outputs": [],
   "source": [
    "# Create column for abbrev\n",
    "temp_clean[\"state\"] = \"\""
   ]
  },
  {
   "cell_type": "code",
   "execution_count": 177,
   "metadata": {},
   "outputs": [
    {
     "data": {
      "text/html": [
       "<div>\n",
       "<style>\n",
       "    .dataframe thead tr:only-child th {\n",
       "        text-align: right;\n",
       "    }\n",
       "\n",
       "    .dataframe thead th {\n",
       "        text-align: left;\n",
       "    }\n",
       "\n",
       "    .dataframe tbody tr th {\n",
       "        vertical-align: top;\n",
       "    }\n",
       "</style>\n",
       "<table border=\"1\" class=\"dataframe\">\n",
       "  <thead>\n",
       "    <tr style=\"text-align: right;\">\n",
       "      <th></th>\n",
       "      <th>state_name</th>\n",
       "      <th>year</th>\n",
       "      <th>tmin</th>\n",
       "      <th>tmedian</th>\n",
       "      <th>tmean</th>\n",
       "      <th>tmax</th>\n",
       "      <th>state</th>\n",
       "    </tr>\n",
       "  </thead>\n",
       "  <tbody>\n",
       "    <tr>\n",
       "      <th>0</th>\n",
       "      <td>Alabama</td>\n",
       "      <td>1998</td>\n",
       "      <td>9.114</td>\n",
       "      <td>18.1855</td>\n",
       "      <td>18.786833</td>\n",
       "      <td>28.137</td>\n",
       "      <td></td>\n",
       "    </tr>\n",
       "    <tr>\n",
       "      <th>1</th>\n",
       "      <td>Alabama</td>\n",
       "      <td>1999</td>\n",
       "      <td>8.662</td>\n",
       "      <td>18.8300</td>\n",
       "      <td>18.271083</td>\n",
       "      <td>28.234</td>\n",
       "      <td></td>\n",
       "    </tr>\n",
       "    <tr>\n",
       "      <th>2</th>\n",
       "      <td>Alabama</td>\n",
       "      <td>2000</td>\n",
       "      <td>4.224</td>\n",
       "      <td>17.2430</td>\n",
       "      <td>17.911333</td>\n",
       "      <td>28.149</td>\n",
       "      <td></td>\n",
       "    </tr>\n",
       "    <tr>\n",
       "      <th>3</th>\n",
       "      <td>Alabama</td>\n",
       "      <td>2001</td>\n",
       "      <td>5.358</td>\n",
       "      <td>17.4300</td>\n",
       "      <td>17.677750</td>\n",
       "      <td>27.066</td>\n",
       "      <td></td>\n",
       "    </tr>\n",
       "    <tr>\n",
       "      <th>4</th>\n",
       "      <td>Alabama</td>\n",
       "      <td>2002</td>\n",
       "      <td>7.669</td>\n",
       "      <td>19.8750</td>\n",
       "      <td>18.022167</td>\n",
       "      <td>27.441</td>\n",
       "      <td></td>\n",
       "    </tr>\n",
       "  </tbody>\n",
       "</table>\n",
       "</div>"
      ],
      "text/plain": [
       "  state_name  year   tmin  tmedian      tmean    tmax state\n",
       "0    Alabama  1998  9.114  18.1855  18.786833  28.137      \n",
       "1    Alabama  1999  8.662  18.8300  18.271083  28.234      \n",
       "2    Alabama  2000  4.224  17.2430  17.911333  28.149      \n",
       "3    Alabama  2001  5.358  17.4300  17.677750  27.066      \n",
       "4    Alabama  2002  7.669  19.8750  18.022167  27.441      "
      ]
     },
     "execution_count": 177,
     "metadata": {},
     "output_type": "execute_result"
    }
   ],
   "source": [
    "temp_clean.head()"
   ]
  },
  {
   "cell_type": "code",
   "execution_count": 178,
   "metadata": {
    "collapsed": true
   },
   "outputs": [],
   "source": [
    "for i, row in temp_clean.iterrows():\n",
    "    \n",
    "    for key, value in states_hash.items():\n",
    "        \n",
    "        if row[\"state_name\"] == key:\n",
    "            \n",
    "            temp_clean.at[i, \"state\"] = value"
   ]
  },
  {
   "cell_type": "code",
   "execution_count": 179,
   "metadata": {},
   "outputs": [
    {
     "data": {
      "text/html": [
       "<div>\n",
       "<style>\n",
       "    .dataframe thead tr:only-child th {\n",
       "        text-align: right;\n",
       "    }\n",
       "\n",
       "    .dataframe thead th {\n",
       "        text-align: left;\n",
       "    }\n",
       "\n",
       "    .dataframe tbody tr th {\n",
       "        vertical-align: top;\n",
       "    }\n",
       "</style>\n",
       "<table border=\"1\" class=\"dataframe\">\n",
       "  <thead>\n",
       "    <tr style=\"text-align: right;\">\n",
       "      <th></th>\n",
       "      <th>state_name</th>\n",
       "      <th>year</th>\n",
       "      <th>tmin</th>\n",
       "      <th>tmedian</th>\n",
       "      <th>tmean</th>\n",
       "      <th>tmax</th>\n",
       "      <th>state</th>\n",
       "    </tr>\n",
       "  </thead>\n",
       "  <tbody>\n",
       "    <tr>\n",
       "      <th>0</th>\n",
       "      <td>Alabama</td>\n",
       "      <td>1998</td>\n",
       "      <td>9.114</td>\n",
       "      <td>18.1855</td>\n",
       "      <td>18.786833</td>\n",
       "      <td>28.137</td>\n",
       "      <td>AL</td>\n",
       "    </tr>\n",
       "    <tr>\n",
       "      <th>1</th>\n",
       "      <td>Alabama</td>\n",
       "      <td>1999</td>\n",
       "      <td>8.662</td>\n",
       "      <td>18.8300</td>\n",
       "      <td>18.271083</td>\n",
       "      <td>28.234</td>\n",
       "      <td>AL</td>\n",
       "    </tr>\n",
       "    <tr>\n",
       "      <th>2</th>\n",
       "      <td>Alabama</td>\n",
       "      <td>2000</td>\n",
       "      <td>4.224</td>\n",
       "      <td>17.2430</td>\n",
       "      <td>17.911333</td>\n",
       "      <td>28.149</td>\n",
       "      <td>AL</td>\n",
       "    </tr>\n",
       "    <tr>\n",
       "      <th>3</th>\n",
       "      <td>Alabama</td>\n",
       "      <td>2001</td>\n",
       "      <td>5.358</td>\n",
       "      <td>17.4300</td>\n",
       "      <td>17.677750</td>\n",
       "      <td>27.066</td>\n",
       "      <td>AL</td>\n",
       "    </tr>\n",
       "    <tr>\n",
       "      <th>4</th>\n",
       "      <td>Alabama</td>\n",
       "      <td>2002</td>\n",
       "      <td>7.669</td>\n",
       "      <td>19.8750</td>\n",
       "      <td>18.022167</td>\n",
       "      <td>27.441</td>\n",
       "      <td>AL</td>\n",
       "    </tr>\n",
       "  </tbody>\n",
       "</table>\n",
       "</div>"
      ],
      "text/plain": [
       "  state_name  year   tmin  tmedian      tmean    tmax state\n",
       "0    Alabama  1998  9.114  18.1855  18.786833  28.137    AL\n",
       "1    Alabama  1999  8.662  18.8300  18.271083  28.234    AL\n",
       "2    Alabama  2000  4.224  17.2430  17.911333  28.149    AL\n",
       "3    Alabama  2001  5.358  17.4300  17.677750  27.066    AL\n",
       "4    Alabama  2002  7.669  19.8750  18.022167  27.441    AL"
      ]
     },
     "execution_count": 179,
     "metadata": {},
     "output_type": "execute_result"
    }
   ],
   "source": [
    "temp_clean.head()"
   ]
  },
  {
   "cell_type": "code",
   "execution_count": 180,
   "metadata": {
    "collapsed": true
   },
   "outputs": [],
   "source": [
    "temp_clean = temp_clean.round({\"tmin\": 1, \n",
    "                               \"tmedian\": 1, \n",
    "                               \"tmean\": 1, \n",
    "                               \"tmax\": 1,})"
   ]
  },
  {
   "cell_type": "code",
   "execution_count": 181,
   "metadata": {
    "collapsed": true
   },
   "outputs": [],
   "source": [
    "# Save temp data to csv\n",
    "temp_clean.to_csv(\"data/clean_data/temp_1998_2012.csv\", encoding=\"utf-8\", index=False)"
   ]
  },
  {
   "cell_type": "code",
   "execution_count": 182,
   "metadata": {
    "collapsed": true
   },
   "outputs": [],
   "source": [
    "# Csv path\n",
    "honey_path = \"data/raw_data/honeyproduction.csv\"\n",
    "\n",
    "# Read csv as df\n",
    "honey_df = pd.read_csv(honey_path, encoding='utf-8')\n",
    "\n",
    "# Sort by state then by year\n",
    "honey_df = honey_df.sort_values(by=[\"state\", \"year\"]).reset_index(drop=True)"
   ]
  },
  {
   "cell_type": "code",
   "execution_count": 183,
   "metadata": {},
   "outputs": [
    {
     "data": {
      "text/html": [
       "<div>\n",
       "<style>\n",
       "    .dataframe thead tr:only-child th {\n",
       "        text-align: right;\n",
       "    }\n",
       "\n",
       "    .dataframe thead th {\n",
       "        text-align: left;\n",
       "    }\n",
       "\n",
       "    .dataframe tbody tr th {\n",
       "        vertical-align: top;\n",
       "    }\n",
       "</style>\n",
       "<table border=\"1\" class=\"dataframe\">\n",
       "  <thead>\n",
       "    <tr style=\"text-align: right;\">\n",
       "      <th></th>\n",
       "      <th>state</th>\n",
       "      <th>numcol</th>\n",
       "      <th>yieldpercol</th>\n",
       "      <th>totalprod</th>\n",
       "      <th>stocks</th>\n",
       "      <th>priceperlb</th>\n",
       "      <th>prodvalue</th>\n",
       "      <th>year</th>\n",
       "    </tr>\n",
       "  </thead>\n",
       "  <tbody>\n",
       "    <tr>\n",
       "      <th>0</th>\n",
       "      <td>AL</td>\n",
       "      <td>16000.0</td>\n",
       "      <td>71</td>\n",
       "      <td>1136000.0</td>\n",
       "      <td>159000.0</td>\n",
       "      <td>0.72</td>\n",
       "      <td>818000.0</td>\n",
       "      <td>1998</td>\n",
       "    </tr>\n",
       "    <tr>\n",
       "      <th>1</th>\n",
       "      <td>AL</td>\n",
       "      <td>17000.0</td>\n",
       "      <td>68</td>\n",
       "      <td>1156000.0</td>\n",
       "      <td>185000.0</td>\n",
       "      <td>0.56</td>\n",
       "      <td>647000.0</td>\n",
       "      <td>1999</td>\n",
       "    </tr>\n",
       "    <tr>\n",
       "      <th>2</th>\n",
       "      <td>AL</td>\n",
       "      <td>16000.0</td>\n",
       "      <td>78</td>\n",
       "      <td>1248000.0</td>\n",
       "      <td>187000.0</td>\n",
       "      <td>0.59</td>\n",
       "      <td>736000.0</td>\n",
       "      <td>2000</td>\n",
       "    </tr>\n",
       "    <tr>\n",
       "      <th>3</th>\n",
       "      <td>AL</td>\n",
       "      <td>14000.0</td>\n",
       "      <td>73</td>\n",
       "      <td>1022000.0</td>\n",
       "      <td>235000.0</td>\n",
       "      <td>0.72</td>\n",
       "      <td>736000.0</td>\n",
       "      <td>2001</td>\n",
       "    </tr>\n",
       "    <tr>\n",
       "      <th>4</th>\n",
       "      <td>AL</td>\n",
       "      <td>12000.0</td>\n",
       "      <td>86</td>\n",
       "      <td>1032000.0</td>\n",
       "      <td>103000.0</td>\n",
       "      <td>1.18</td>\n",
       "      <td>1218000.0</td>\n",
       "      <td>2002</td>\n",
       "    </tr>\n",
       "  </tbody>\n",
       "</table>\n",
       "</div>"
      ],
      "text/plain": [
       "  state   numcol  yieldpercol  totalprod    stocks  priceperlb  prodvalue  \\\n",
       "0    AL  16000.0           71  1136000.0  159000.0        0.72   818000.0   \n",
       "1    AL  17000.0           68  1156000.0  185000.0        0.56   647000.0   \n",
       "2    AL  16000.0           78  1248000.0  187000.0        0.59   736000.0   \n",
       "3    AL  14000.0           73  1022000.0  235000.0        0.72   736000.0   \n",
       "4    AL  12000.0           86  1032000.0  103000.0        1.18  1218000.0   \n",
       "\n",
       "   year  \n",
       "0  1998  \n",
       "1  1999  \n",
       "2  2000  \n",
       "3  2001  \n",
       "4  2002  "
      ]
     },
     "execution_count": 183,
     "metadata": {},
     "output_type": "execute_result"
    }
   ],
   "source": [
    "honey_df.head()"
   ]
  },
  {
   "cell_type": "code",
   "execution_count": 184,
   "metadata": {},
   "outputs": [
    {
     "data": {
      "text/plain": [
       "state          626\n",
       "numcol         626\n",
       "yieldpercol    626\n",
       "totalprod      626\n",
       "stocks         626\n",
       "priceperlb     626\n",
       "prodvalue      626\n",
       "year           626\n",
       "dtype: int64"
      ]
     },
     "execution_count": 184,
     "metadata": {},
     "output_type": "execute_result"
    }
   ],
   "source": [
    "honey_df.count()"
   ]
  },
  {
   "cell_type": "code",
   "execution_count": 185,
   "metadata": {
    "collapsed": true
   },
   "outputs": [],
   "source": [
    "# Merge dfs\n",
    "merged_df = pd.merge(honey_df, temp_clean, on=[\"state\", \"year\"])"
   ]
  },
  {
   "cell_type": "code",
   "execution_count": 186,
   "metadata": {},
   "outputs": [
    {
     "data": {
      "text/html": [
       "<div>\n",
       "<style>\n",
       "    .dataframe thead tr:only-child th {\n",
       "        text-align: right;\n",
       "    }\n",
       "\n",
       "    .dataframe thead th {\n",
       "        text-align: left;\n",
       "    }\n",
       "\n",
       "    .dataframe tbody tr th {\n",
       "        vertical-align: top;\n",
       "    }\n",
       "</style>\n",
       "<table border=\"1\" class=\"dataframe\">\n",
       "  <thead>\n",
       "    <tr style=\"text-align: right;\">\n",
       "      <th></th>\n",
       "      <th>state</th>\n",
       "      <th>numcol</th>\n",
       "      <th>yieldpercol</th>\n",
       "      <th>totalprod</th>\n",
       "      <th>stocks</th>\n",
       "      <th>priceperlb</th>\n",
       "      <th>prodvalue</th>\n",
       "      <th>year</th>\n",
       "      <th>state_name</th>\n",
       "      <th>tmin</th>\n",
       "      <th>tmedian</th>\n",
       "      <th>tmean</th>\n",
       "      <th>tmax</th>\n",
       "    </tr>\n",
       "  </thead>\n",
       "  <tbody>\n",
       "    <tr>\n",
       "      <th>0</th>\n",
       "      <td>AL</td>\n",
       "      <td>16000.0</td>\n",
       "      <td>71</td>\n",
       "      <td>1136000.0</td>\n",
       "      <td>159000.0</td>\n",
       "      <td>0.72</td>\n",
       "      <td>818000.0</td>\n",
       "      <td>1998</td>\n",
       "      <td>Alabama</td>\n",
       "      <td>9.1</td>\n",
       "      <td>18.2</td>\n",
       "      <td>18.8</td>\n",
       "      <td>28.1</td>\n",
       "    </tr>\n",
       "    <tr>\n",
       "      <th>1</th>\n",
       "      <td>AL</td>\n",
       "      <td>17000.0</td>\n",
       "      <td>68</td>\n",
       "      <td>1156000.0</td>\n",
       "      <td>185000.0</td>\n",
       "      <td>0.56</td>\n",
       "      <td>647000.0</td>\n",
       "      <td>1999</td>\n",
       "      <td>Alabama</td>\n",
       "      <td>8.7</td>\n",
       "      <td>18.8</td>\n",
       "      <td>18.3</td>\n",
       "      <td>28.2</td>\n",
       "    </tr>\n",
       "    <tr>\n",
       "      <th>2</th>\n",
       "      <td>AL</td>\n",
       "      <td>16000.0</td>\n",
       "      <td>78</td>\n",
       "      <td>1248000.0</td>\n",
       "      <td>187000.0</td>\n",
       "      <td>0.59</td>\n",
       "      <td>736000.0</td>\n",
       "      <td>2000</td>\n",
       "      <td>Alabama</td>\n",
       "      <td>4.2</td>\n",
       "      <td>17.2</td>\n",
       "      <td>17.9</td>\n",
       "      <td>28.1</td>\n",
       "    </tr>\n",
       "    <tr>\n",
       "      <th>3</th>\n",
       "      <td>AL</td>\n",
       "      <td>14000.0</td>\n",
       "      <td>73</td>\n",
       "      <td>1022000.0</td>\n",
       "      <td>235000.0</td>\n",
       "      <td>0.72</td>\n",
       "      <td>736000.0</td>\n",
       "      <td>2001</td>\n",
       "      <td>Alabama</td>\n",
       "      <td>5.4</td>\n",
       "      <td>17.4</td>\n",
       "      <td>17.7</td>\n",
       "      <td>27.1</td>\n",
       "    </tr>\n",
       "    <tr>\n",
       "      <th>4</th>\n",
       "      <td>AL</td>\n",
       "      <td>12000.0</td>\n",
       "      <td>86</td>\n",
       "      <td>1032000.0</td>\n",
       "      <td>103000.0</td>\n",
       "      <td>1.18</td>\n",
       "      <td>1218000.0</td>\n",
       "      <td>2002</td>\n",
       "      <td>Alabama</td>\n",
       "      <td>7.7</td>\n",
       "      <td>19.9</td>\n",
       "      <td>18.0</td>\n",
       "      <td>27.4</td>\n",
       "    </tr>\n",
       "  </tbody>\n",
       "</table>\n",
       "</div>"
      ],
      "text/plain": [
       "  state   numcol  yieldpercol  totalprod    stocks  priceperlb  prodvalue  \\\n",
       "0    AL  16000.0           71  1136000.0  159000.0        0.72   818000.0   \n",
       "1    AL  17000.0           68  1156000.0  185000.0        0.56   647000.0   \n",
       "2    AL  16000.0           78  1248000.0  187000.0        0.59   736000.0   \n",
       "3    AL  14000.0           73  1022000.0  235000.0        0.72   736000.0   \n",
       "4    AL  12000.0           86  1032000.0  103000.0        1.18  1218000.0   \n",
       "\n",
       "   year state_name  tmin  tmedian  tmean  tmax  \n",
       "0  1998    Alabama   9.1     18.2   18.8  28.1  \n",
       "1  1999    Alabama   8.7     18.8   18.3  28.2  \n",
       "2  2000    Alabama   4.2     17.2   17.9  28.1  \n",
       "3  2001    Alabama   5.4     17.4   17.7  27.1  \n",
       "4  2002    Alabama   7.7     19.9   18.0  27.4  "
      ]
     },
     "execution_count": 186,
     "metadata": {},
     "output_type": "execute_result"
    }
   ],
   "source": [
    "merged_df.head()"
   ]
  },
  {
   "cell_type": "code",
   "execution_count": 187,
   "metadata": {
    "collapsed": true
   },
   "outputs": [],
   "source": [
    "# Save csv\n",
    "merged_df.to_csv(\"data/clean_data/honey_temp_1998_2012.csv\", encoding='utf-8', index=False)"
   ]
  },
  {
   "cell_type": "code",
   "execution_count": 188,
   "metadata": {},
   "outputs": [
    {
     "data": {
      "text/html": [
       "<div>\n",
       "<style>\n",
       "    .dataframe thead tr:only-child th {\n",
       "        text-align: right;\n",
       "    }\n",
       "\n",
       "    .dataframe thead th {\n",
       "        text-align: left;\n",
       "    }\n",
       "\n",
       "    .dataframe tbody tr th {\n",
       "        vertical-align: top;\n",
       "    }\n",
       "</style>\n",
       "<table border=\"1\" class=\"dataframe\">\n",
       "  <thead>\n",
       "    <tr style=\"text-align: right;\">\n",
       "      <th></th>\n",
       "      <th>numcol</th>\n",
       "      <th>yieldpercol</th>\n",
       "      <th>totalprod</th>\n",
       "      <th>stocks</th>\n",
       "      <th>priceperlb</th>\n",
       "      <th>prodvalue</th>\n",
       "      <th>year</th>\n",
       "      <th>tmin</th>\n",
       "      <th>tmedian</th>\n",
       "      <th>tmean</th>\n",
       "      <th>tmax</th>\n",
       "    </tr>\n",
       "  </thead>\n",
       "  <tbody>\n",
       "    <tr>\n",
       "      <th>numcol</th>\n",
       "      <td>1.000000</td>\n",
       "      <td>0.243515</td>\n",
       "      <td>0.953594</td>\n",
       "      <td>0.825929</td>\n",
       "      <td>-0.232701</td>\n",
       "      <td>0.912796</td>\n",
       "      <td>0.008709</td>\n",
       "      <td>-0.119068</td>\n",
       "      <td>-0.127629</td>\n",
       "      <td>-0.132249</td>\n",
       "      <td>-0.099587</td>\n",
       "    </tr>\n",
       "    <tr>\n",
       "      <th>yieldpercol</th>\n",
       "      <td>0.243515</td>\n",
       "      <td>1.000000</td>\n",
       "      <td>0.396252</td>\n",
       "      <td>0.367812</td>\n",
       "      <td>-0.358646</td>\n",
       "      <td>0.278977</td>\n",
       "      <td>-0.232092</td>\n",
       "      <td>0.176676</td>\n",
       "      <td>0.260232</td>\n",
       "      <td>0.226306</td>\n",
       "      <td>0.175801</td>\n",
       "    </tr>\n",
       "    <tr>\n",
       "      <th>totalprod</th>\n",
       "      <td>0.953594</td>\n",
       "      <td>0.396252</td>\n",
       "      <td>1.000000</td>\n",
       "      <td>0.878830</td>\n",
       "      <td>-0.264499</td>\n",
       "      <td>0.907236</td>\n",
       "      <td>-0.055556</td>\n",
       "      <td>-0.142884</td>\n",
       "      <td>-0.106810</td>\n",
       "      <td>-0.126047</td>\n",
       "      <td>-0.081457</td>\n",
       "    </tr>\n",
       "    <tr>\n",
       "      <th>stocks</th>\n",
       "      <td>0.825929</td>\n",
       "      <td>0.367812</td>\n",
       "      <td>0.878830</td>\n",
       "      <td>1.000000</td>\n",
       "      <td>-0.305867</td>\n",
       "      <td>0.728560</td>\n",
       "      <td>-0.119602</td>\n",
       "      <td>-0.280130</td>\n",
       "      <td>-0.245699</td>\n",
       "      <td>-0.262522</td>\n",
       "      <td>-0.177148</td>\n",
       "    </tr>\n",
       "    <tr>\n",
       "      <th>priceperlb</th>\n",
       "      <td>-0.232701</td>\n",
       "      <td>-0.358646</td>\n",
       "      <td>-0.264499</td>\n",
       "      <td>-0.305867</td>\n",
       "      <td>1.000000</td>\n",
       "      <td>-0.089567</td>\n",
       "      <td>0.693984</td>\n",
       "      <td>0.027347</td>\n",
       "      <td>0.053890</td>\n",
       "      <td>0.050694</td>\n",
       "      <td>0.094775</td>\n",
       "    </tr>\n",
       "    <tr>\n",
       "      <th>prodvalue</th>\n",
       "      <td>0.912796</td>\n",
       "      <td>0.278977</td>\n",
       "      <td>0.907236</td>\n",
       "      <td>0.728560</td>\n",
       "      <td>-0.089567</td>\n",
       "      <td>1.000000</td>\n",
       "      <td>0.139451</td>\n",
       "      <td>-0.155445</td>\n",
       "      <td>-0.127518</td>\n",
       "      <td>-0.147811</td>\n",
       "      <td>-0.085078</td>\n",
       "    </tr>\n",
       "    <tr>\n",
       "      <th>year</th>\n",
       "      <td>0.008709</td>\n",
       "      <td>-0.232092</td>\n",
       "      <td>-0.055556</td>\n",
       "      <td>-0.119602</td>\n",
       "      <td>0.693984</td>\n",
       "      <td>0.139451</td>\n",
       "      <td>1.000000</td>\n",
       "      <td>-0.045318</td>\n",
       "      <td>-0.008069</td>\n",
       "      <td>-0.019342</td>\n",
       "      <td>0.038180</td>\n",
       "    </tr>\n",
       "    <tr>\n",
       "      <th>tmin</th>\n",
       "      <td>-0.119068</td>\n",
       "      <td>0.176676</td>\n",
       "      <td>-0.142884</td>\n",
       "      <td>-0.280130</td>\n",
       "      <td>0.027347</td>\n",
       "      <td>-0.155445</td>\n",
       "      <td>-0.045318</td>\n",
       "      <td>1.000000</td>\n",
       "      <td>0.878495</td>\n",
       "      <td>0.928113</td>\n",
       "      <td>0.654322</td>\n",
       "    </tr>\n",
       "    <tr>\n",
       "      <th>tmedian</th>\n",
       "      <td>-0.127629</td>\n",
       "      <td>0.260232</td>\n",
       "      <td>-0.106810</td>\n",
       "      <td>-0.245699</td>\n",
       "      <td>0.053890</td>\n",
       "      <td>-0.127518</td>\n",
       "      <td>-0.008069</td>\n",
       "      <td>0.878495</td>\n",
       "      <td>1.000000</td>\n",
       "      <td>0.982939</td>\n",
       "      <td>0.833108</td>\n",
       "    </tr>\n",
       "    <tr>\n",
       "      <th>tmean</th>\n",
       "      <td>-0.132249</td>\n",
       "      <td>0.226306</td>\n",
       "      <td>-0.126047</td>\n",
       "      <td>-0.262522</td>\n",
       "      <td>0.050694</td>\n",
       "      <td>-0.147811</td>\n",
       "      <td>-0.019342</td>\n",
       "      <td>0.928113</td>\n",
       "      <td>0.982939</td>\n",
       "      <td>1.000000</td>\n",
       "      <td>0.835726</td>\n",
       "    </tr>\n",
       "    <tr>\n",
       "      <th>tmax</th>\n",
       "      <td>-0.099587</td>\n",
       "      <td>0.175801</td>\n",
       "      <td>-0.081457</td>\n",
       "      <td>-0.177148</td>\n",
       "      <td>0.094775</td>\n",
       "      <td>-0.085078</td>\n",
       "      <td>0.038180</td>\n",
       "      <td>0.654322</td>\n",
       "      <td>0.833108</td>\n",
       "      <td>0.835726</td>\n",
       "      <td>1.000000</td>\n",
       "    </tr>\n",
       "  </tbody>\n",
       "</table>\n",
       "</div>"
      ],
      "text/plain": [
       "               numcol  yieldpercol  totalprod    stocks  priceperlb  \\\n",
       "numcol       1.000000     0.243515   0.953594  0.825929   -0.232701   \n",
       "yieldpercol  0.243515     1.000000   0.396252  0.367812   -0.358646   \n",
       "totalprod    0.953594     0.396252   1.000000  0.878830   -0.264499   \n",
       "stocks       0.825929     0.367812   0.878830  1.000000   -0.305867   \n",
       "priceperlb  -0.232701    -0.358646  -0.264499 -0.305867    1.000000   \n",
       "prodvalue    0.912796     0.278977   0.907236  0.728560   -0.089567   \n",
       "year         0.008709    -0.232092  -0.055556 -0.119602    0.693984   \n",
       "tmin        -0.119068     0.176676  -0.142884 -0.280130    0.027347   \n",
       "tmedian     -0.127629     0.260232  -0.106810 -0.245699    0.053890   \n",
       "tmean       -0.132249     0.226306  -0.126047 -0.262522    0.050694   \n",
       "tmax        -0.099587     0.175801  -0.081457 -0.177148    0.094775   \n",
       "\n",
       "             prodvalue      year      tmin   tmedian     tmean      tmax  \n",
       "numcol        0.912796  0.008709 -0.119068 -0.127629 -0.132249 -0.099587  \n",
       "yieldpercol   0.278977 -0.232092  0.176676  0.260232  0.226306  0.175801  \n",
       "totalprod     0.907236 -0.055556 -0.142884 -0.106810 -0.126047 -0.081457  \n",
       "stocks        0.728560 -0.119602 -0.280130 -0.245699 -0.262522 -0.177148  \n",
       "priceperlb   -0.089567  0.693984  0.027347  0.053890  0.050694  0.094775  \n",
       "prodvalue     1.000000  0.139451 -0.155445 -0.127518 -0.147811 -0.085078  \n",
       "year          0.139451  1.000000 -0.045318 -0.008069 -0.019342  0.038180  \n",
       "tmin         -0.155445 -0.045318  1.000000  0.878495  0.928113  0.654322  \n",
       "tmedian      -0.127518 -0.008069  0.878495  1.000000  0.982939  0.833108  \n",
       "tmean        -0.147811 -0.019342  0.928113  0.982939  1.000000  0.835726  \n",
       "tmax         -0.085078  0.038180  0.654322  0.833108  0.835726  1.000000  "
      ]
     },
     "execution_count": 188,
     "metadata": {},
     "output_type": "execute_result"
    }
   ],
   "source": [
    "merged_df.corr()"
   ]
  }
 ],
 "metadata": {
  "kernelspec": {
   "display_name": "Python [conda env:PythonData]",
   "language": "python",
   "name": "conda-env-PythonData-py"
  },
  "language_info": {
   "codemirror_mode": {
    "name": "ipython",
    "version": 3
   },
   "file_extension": ".py",
   "mimetype": "text/x-python",
   "name": "python",
   "nbconvert_exporter": "python",
   "pygments_lexer": "ipython3",
   "version": "3.6.3"
  }
 },
 "nbformat": 4,
 "nbformat_minor": 2
}
